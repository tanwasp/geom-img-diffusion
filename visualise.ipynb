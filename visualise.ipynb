{
 "cells": [
  {
   "cell_type": "code",
   "execution_count": 1,
   "id": "30ff2e6d-cdb1-493f-8bdf-83da51049605",
   "metadata": {},
   "outputs": [],
   "source": [
    "import numpy as np\n",
    "import matplotlib.pyplot as plt"
   ]
  },
  {
   "cell_type": "code",
   "execution_count": 3,
   "id": "bff3f64a-06c8-45d1-a513-f8ea44f9ead4",
   "metadata": {},
   "outputs": [
    {
     "data": {
      "image/png": "[encoded data removed]",
      "text/plain": [
       "<Figure size 640x480 with 1 Axes>"
      ]
     },
     "metadata": {},
     "output_type": "display_data"
    }
   ],
   "source": [
    "# Load your geometry image (assuming it was saved as a .npy file)\n",
    "geometry_image = np.load('geometry_image.npy')  # shape (H, W, 3)\n",
    "\n",
    "# Normalize the geometry image to the [0,1] range.\n",
    "# Option 1: Global normalization (using the overall min and max)\n",
    "# global_min = geometry_image.min()\n",
    "# global_max = geometry_image.max()\n",
    "# normalized = (geometry_image - global_min) / (global_max - global_min)\n",
    "\n",
    "# Option 2: Channel-wise normalization\n",
    "normalized = np.zeros_like(geometry_image)\n",
    "for c in range(3):\n",
    "    channel_min = geometry_image[..., c].min()\n",
    "    channel_max = geometry_image[..., c].max()\n",
    "    normalized[..., c] = (geometry_image[..., c] - channel_min) / (channel_max - channel_min)\n",
    "\n",
    "# Visualize using Matplotlib\n",
    "plt.imshow(normalized)\n",
    "plt.title(\"Normalized Geometry Image\")\n",
    "plt.axis('off')\n",
    "plt.show()\n"
   ]
  }
 ],
 "metadata": {
  "kernelspec": {
   "display_name": "Python 3 (ipykernel)",
   "language": "python",
   "name": "python3"
  },
  "language_info": {
   "codemirror_mode": {
    "name": "ipython",
    "version": 3
   },
   "file_extension": ".py",
   "mimetype": "text/x-python",
   "name": "python",
   "nbconvert_exporter": "python",
   "pygments_lexer": "ipython3",
   "version": "3.13.2"
  }
 },
 "nbformat": 4,
 "nbformat_minor": 5
}
